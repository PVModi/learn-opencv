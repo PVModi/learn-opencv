{
 "cells": [
  {
   "cell_type": "code",
   "execution_count": 1,
   "metadata": {},
   "outputs": [],
   "source": [
    "import cv2"
   ]
  },
  {
   "cell_type": "markdown",
   "metadata": {},
   "source": [
    "### Read Images"
   ]
  },
  {
   "cell_type": "code",
   "execution_count": 4,
   "metadata": {},
   "outputs": [],
   "source": [
    "img = cv2.imread(\"media/mango.jpg\")"
   ]
  },
  {
   "cell_type": "code",
   "execution_count": 5,
   "metadata": {},
   "outputs": [],
   "source": [
    "(width,height,depth) = img.shape"
   ]
  },
  {
   "cell_type": "code",
   "execution_count": 6,
   "metadata": {},
   "outputs": [
    {
     "name": "stdout",
     "output_type": "stream",
     "text": [
      "Image width:  1000\n",
      "Image height:  1000\n",
      "Image depth:  3\n"
     ]
    }
   ],
   "source": [
    "print(\"Image width: \",width)\n",
    "print(\"Image height: \",height)\n",
    "print(\"Image depth: \",depth)"
   ]
  },
  {
   "cell_type": "code",
   "execution_count": 7,
   "metadata": {},
   "outputs": [],
   "source": [
    "cv2.imshow(\"capture\",img)\n",
    "cv2.waitKey(0)\n",
    "cv2.destroyAllWindows()"
   ]
  },
  {
   "cell_type": "markdown",
   "metadata": {},
   "source": [
    "##### or"
   ]
  },
  {
   "cell_type": "code",
   "execution_count": 8,
   "metadata": {},
   "outputs": [],
   "source": [
    "def showImg(image):\n",
    "    while True:\n",
    "        cv2.imshow(\"capture\",image)\n",
    "        key = cv2.waitKey(20)\n",
    "        if key == ord('q'):\n",
    "            break\n",
    "    cv2.destroyAllWindows()"
   ]
  },
  {
   "cell_type": "markdown",
   "metadata": {},
   "source": [
    "### Write image"
   ]
  },
  {
   "cell_type": "code",
   "execution_count": 9,
   "metadata": {},
   "outputs": [],
   "source": [
    "img = cv2.imread(\"media/mango.jpg\",cv2.IMREAD_GRAYSCALE)\n",
    "showImg(img)"
   ]
  },
  {
   "cell_type": "code",
   "execution_count": 11,
   "metadata": {},
   "outputs": [
    {
     "name": "stdout",
     "output_type": "stream",
     "text": [
      "Images saved successfully.\n"
     ]
    }
   ],
   "source": [
    "if cv2.imwrite(\"media/gray-mango.jpg\",img):\n",
    "    print(\"Images saved successfully.\")\n",
    "else:\n",
    "    print(\"Something went wrong.\")"
   ]
  },
  {
   "cell_type": "markdown",
   "metadata": {},
   "source": [
    "### Read Video"
   ]
  },
  {
   "cell_type": "code",
   "execution_count": 3,
   "metadata": {},
   "outputs": [],
   "source": [
    "cap = cv2.VideoCapture(\"media/test_video.mp4\")\n",
    "\n",
    "while cap.isOpened():\n",
    "    ret,frame = cap.read()\n",
    "    if ret:\n",
    "        cv2.imshow(\"frames\",frame)\n",
    "        key = cv2.waitKey(20)\n",
    "        if key == ord('q'):\n",
    "            break\n",
    "    else:\n",
    "        break\n",
    "        \n",
    "cv2.destroyAllWindows()\n",
    "cap.release()"
   ]
  },
  {
   "cell_type": "markdown",
   "metadata": {},
   "source": [
    "### Write video"
   ]
  },
  {
   "cell_type": "code",
   "execution_count": 6,
   "metadata": {},
   "outputs": [
    {
     "name": "stdout",
     "output_type": "stream",
     "text": [
      "True\n",
      "True\n"
     ]
    }
   ],
   "source": [
    "cap = cv2.VideoCapture(0)\n",
    "\n",
    "if cap.isOpened():\n",
    "#     print(\"CAP_PROP_POS_AVI_RATIO: \",cap.get(2)) # CAP_PROP_POS_AVI_RATIO\n",
    "#     print(\"Width: \",cap.get(3)) # Width of the frame\n",
    "#     print(\"Height: \",cap.get(4)) # Height of the frame\n",
    "#     print(\"FPS: \",cap.get(5)) # CAP_PROP_FPS (Frames per second)\n",
    "#     print(\"4-character code of codec: \",cap.get(6))\n",
    "#     print(\"Number of frames in the video file: \",cap.get(7))\n",
    "#     print(\"\",cap.get(cv2.CAP_PROP_SETTINGS))\n",
    "    \n",
    "    print(cap.set(cv2.CAP_PROP_FRAME_WIDTH,1080))\n",
    "    print(cap.set(cv2.CAP_PROP_FRAME_HEIGHT,720))\n",
    "    \n",
    "    frame_width = int(cap.get(3))\n",
    "    frame_height = int(cap.get(4))\n",
    "    \n",
    "    frame_size = (frame_width,frame_height)\n",
    "    fps = 30\n",
    "    \n",
    "    output = cv2.VideoWriter(\"mummy_gray_output_video_xvid_1080x720_60.mp4\",cv2.VideoWriter_fourcc(*'XVID'),fps,frame_size,False) # isColored: False\n",
    "    \n",
    "    while cap.isOpened():\n",
    "        ret,frame = cap.read()\n",
    "\n",
    "        if ret:\n",
    "            frame = cv2.cvtColor(frame,cv2.COLOR_BGR2GRAY)\n",
    "            cv2.imshow(\"frame\",frame)\n",
    "            #frame = cv2.flip(frame, 0) # Flip the video frame\n",
    "            output.write(frame)\n",
    "            key = cv2.waitKey(27)\n",
    "            if key == ord('q'):\n",
    "                break\n",
    "        else:\n",
    "            break\n",
    "            \n",
    "    cap.release()\n",
    "    output.release()\n",
    "    cv2.destroyAllWindows()\n",
    "else:\n",
    "    print(\"Unable to read video.\")"
   ]
  },
  {
   "cell_type": "markdown",
   "metadata": {},
   "source": [
    "### Drawing Functions in OpenCV"
   ]
  },
  {
   "cell_type": "markdown",
   "metadata": {},
   "source": [
    "Learn to draw different geometric shapes with OpenCV\n",
    "You will learn these functions : cv.line(), cv.circle() , cv.rectangle(), cv.ellipse(), cv.putText() etc"
   ]
  },
  {
   "cell_type": "code",
   "execution_count": 15,
   "metadata": {},
   "outputs": [],
   "source": [
    "cap = cv2.VideoCapture(0)\n",
    "if cap.isOpened():\n",
    "    cap.set(3,1080)\n",
    "    cap.set(4,720)\n",
    "    \n",
    "    while cap.isOpened():\n",
    "        ret,frame = cap.read()\n",
    "        \n",
    "        if ret:\n",
    "            frame = cv2.line(frame, (20,20), (1060,20), (0,0,255), 2) # frame, left_point1, right_point2, color, thickness\n",
    "            frame = cv2.rectangle(frame, (20,30),(1060,480),(0,255,0), 2) # frame, left_point1, right_point2, color, thickness\n",
    "            frame = cv2.circle(frame, (520,240), 40, (0,255,0), -1) # frame, center of the circle,radius, color, thickness\n",
    "            cv2.imshow(\"frame\",frame)\n",
    "            key = cv2.waitKey(20)\n",
    "            if key == ord('q'):\n",
    "                break\n",
    "        else:\n",
    "            break\n",
    "    \n",
    "    cap.release()\n",
    "    cv2.destroyAllWindows()\n",
    "else:\n",
    "    print(\"Unable to open video stream\")"
   ]
  }
 ],
 "metadata": {
  "kernelspec": {
   "display_name": "Python 3 (ipykernel)",
   "language": "python",
   "name": "python3"
  },
  "language_info": {
   "codemirror_mode": {
    "name": "ipython",
    "version": 3
   },
   "file_extension": ".py",
   "mimetype": "text/x-python",
   "name": "python",
   "nbconvert_exporter": "python",
   "pygments_lexer": "ipython3",
   "version": "3.7.6"
  }
 },
 "nbformat": 4,
 "nbformat_minor": 2
}
